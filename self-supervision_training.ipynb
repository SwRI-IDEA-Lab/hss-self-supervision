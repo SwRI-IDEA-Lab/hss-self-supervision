{
 "cells": [
  {
   "cell_type": "markdown",
   "id": "2572238e-27d0-4e97-8bb4-de5f5bb9bd23",
   "metadata": {},
   "source": [
    "# Load modules"
   ]
  },
  {
   "cell_type": "code",
   "execution_count": null,
   "id": "429ce1e6-0485-4cae-8fdf-163b6a2812d6",
   "metadata": {},
   "outputs": [],
   "source": [
    "import torch\n",
    "import torch.nn as nn\n",
    "import torchvision\n",
    "import pytorch_lightning as pl\n",
    "\n",
    "from lightly.loss import NegativeCosineSimilarity\n",
    "from lightly.models.modules.heads import (\n",
    "    SimSiamPredictionHead,\n",
    "    SimSiamProjectionHead\n",
    ")\n",
    "\n",
    "from data.dataset import SDOTilesDataset"
   ]
  },
  {
   "cell_type": "markdown",
   "id": "7a81b8cd-b654-47ae-9657-69b3259958e6",
   "metadata": {},
   "source": [
    "# Setup training parameters"
   ]
  },
  {
   "cell_type": "code",
   "execution_count": null,
   "id": "b1f8d9f7-365f-418a-86e2-d0601fa1fb68",
   "metadata": {},
   "outputs": [],
   "source": [
    "seed = 42 # So clever.\n",
    "pl.seed_everything(seed, workers=True)\n",
    "\n",
    "data_path = '/home/jovyan/scratch_space/andresmj/hss-self-supervision/AIA_211_193_171_128x128_small'\n",
    "epochs = 16\n",
    "data_stride = 1\n",
    "batch_size = 64\n",
    "augmentation = 'double'\n",
    "loss = 'contrast'   # 'contrast' or 'cos'\n",
    "learning_rate = 0.1\n",
    "cosine_scheduler_start = .1\n",
    "cosine_scheduler_end = 1.0\n",
    "projection_size = 128\n",
    "prediction_size = 128"
   ]
  },
  {
   "cell_type": "markdown",
   "id": "ecffd1f8-1c73-4788-8454-2b77822a8757",
   "metadata": {},
   "source": [
    "# Setup BYOL Model"
   ]
  },
  {
   "cell_type": "code",
   "execution_count": null,
   "id": "287a5feb-2d52-4cbe-b51d-b280133da371",
   "metadata": {},
   "outputs": [],
   "source": [
    "class BYOL(pl.LightningModule):\n",
    "    def __init__(self, lr=0.1, projection_size=256, prediction_size=256, cosine_scheduler_start=0.1, cosine_scheduler_end=1.0, epochs=10, loss='cos'):\n",
    "        super().__init__()\n",
    "\n",
    "        resnet = torchvision.models.resnet18() # Play w/ resnet.\n",
    "        self.backbone = nn.Sequential(*list(resnet.children())[:-1])\n",
    "        self.projection_head = BYOLProjectionHead(512, 1024, projection_size)\n",
    "        self.prediction_head = BYOLPredictionHead(projection_size, 1024, prediction_size)\n",
    "\n",
    "        self.backbone_momentum = copy.deepcopy(self.backbone)\n",
    "        self.projection_head_momentum = copy.deepcopy(self.projection_head)\n",
    "\n",
    "        deactivate_requires_grad(self.backbone_momentum)\n",
    "        deactivate_requires_grad(self.projection_head_momentum)\n",
    "\n",
    "\n",
    "        self.loss = loss\n",
    "        self.loss_cos = NegativeCosineSimilarity()\n",
    "        self.loss_contrast = NTXentLoss()\n",
    "\n",
    "        self.cosine_scheduler_start = cosine_scheduler_start\n",
    "        self.cosine_scheduler_end = cosine_scheduler_end\n",
    "        self.epochs = epochs\n",
    "        self.lr = lr\n",
    "\n",
    "    def forward(self, x):\n",
    "        y = self.backbone(x).flatten(start_dim=1)\n",
    "        z = self.projection_head(y)\n",
    "        p = self.prediction_head(z)\n",
    "        return p\n",
    "\n",
    "    def forward_momentum(self, x):\n",
    "        y = self.backbone_momentum(x).flatten(start_dim=1)\n",
    "        z = self.projection_head_momentum(y)\n",
    "        z = z.detach()\n",
    "        return z\n",
    "\n",
    "    def training_step(self, batch, batch_idx):\n",
    "\n",
    "        momentum = cosine_schedule(self.current_epoch, self.epochs, self.cosine_scheduler_start, self.cosine_scheduler_end)\n",
    "        update_momentum(self.backbone, self.backbone_momentum, m=momentum)\n",
    "        update_momentum(self.projection_head, self.projection_head_momentum, m=momentum)\n",
    "        (x0, x1, _) = batch\n",
    "        p0 = self.forward(x0)\n",
    "        z0 = self.forward_momentum(x0)\n",
    "        p1 = self.forward(x1)\n",
    "        z1 = self.forward_momentum(x1)\n",
    "\n",
    "        loss_cos = 0.5 * (self.loss_cos(p0, z1) + self.loss_cos(p1, z0))\n",
    "        loss_contrast = 0.5 * (self.loss_contrast(p0, z1) + self.loss_contrast(p1, z0))\n",
    "\n",
    "        if self.loss == 'cos':\n",
    "            loss = loss_cos\n",
    "        else:\n",
    "            loss = loss_contrast\n",
    "\n",
    "        self.log('loss cos', loss_cos)\n",
    "        self.log('loss contrast', loss_contrast)\n",
    "        self.log('loss', loss)\n",
    "        return loss\n",
    "\n",
    "    def configure_optimizers(self):\n",
    "        return torch.optim.SGD(self.parameters(), lr=self.lr) # Play w/ optimizers.\n"
   ]
  },
  {
   "cell_type": "markdown",
   "id": "52b7e371-193d-4113-a0f2-71223f697eaa",
   "metadata": {},
   "source": [
    "# Setup SimSiam model"
   ]
  },
  {
   "cell_type": "code",
   "execution_count": null,
   "id": "2e7979d6-7d91-4e6c-b30f-27cb780714eb",
   "metadata": {},
   "outputs": [],
   "source": [
    "class SimSiam(pl.LightningModule):\n",
    "    def __init__(self):\n",
    "        super().__init__()\n",
    "        resnet = torchvision.models.resnet18()\n",
    "        self.backbone = nn.Sequential(*list(resnet.children())[:-1])\n",
    "        self.projection_head = SimSiamProjectionHead(512, 512, 128)\n",
    "        self.prediction_head = SimSiamPredictionHead(128, 64, 128)\n",
    "        self.criterion = NegativeCosineSimilarity()\n",
    "\n",
    "    def forward(self, x):\n",
    "        f = self.backbone(x).flatten(start_dim=1)\n",
    "        z = self.projection_head(f)\n",
    "        p = self.prediction_head(z)\n",
    "        z = z.detach()\n",
    "        return z, p\n",
    "\n",
    "    def training_step(self, batch, batch_idx):\n",
    "        (x0, x1, _) = batch\n",
    "        z0, p0 = self.forward(x0)\n",
    "        z1, p1 = self.forward(x1)\n",
    "        loss = 0.5 * (self.criterion(z0, p1) + self.criterion(z1, p0))\n",
    "        return loss\n",
    "\n",
    "    def configure_optimizers(self):\n",
    "        optim = torch.optim.SGD(self.parameters(), lr=0.06)\n",
    "        return optim\n",
    "        \n",
    "model = SimSiam()\n",
    "model"
   ]
  },
  {
   "cell_type": "markdown",
   "id": "51d90cbb-f8d9-4af7-aadb-ceebfc1c937b",
   "metadata": {},
   "source": [
    "# Initialize dataloader"
   ]
  },
  {
   "cell_type": "code",
   "execution_count": null,
   "id": "cfac07cf-9410-4ad5-8713-4c6637a750a9",
   "metadata": {},
   "outputs": [],
   "source": [
    "dataset = SDOTilesDataset(data_path=data_path, augmentation=augmentation, data_stride=data_stride)\n",
    "\n",
    "dataloader = torch.utils.data.DataLoader(\n",
    "    dataset,\n",
    "    batch_size=batch_size,\n",
    "    shuffle=True,\n",
    "    drop_last=False,\n",
    "    num_workers=4,\n",
    ")"
   ]
  },
  {
   "cell_type": "markdown",
   "id": "41be944f-e4f8-45d1-84d8-12027fe4d138",
   "metadata": {},
   "source": [
    "# Train model"
   ]
  },
  {
   "cell_type": "code",
   "execution_count": null,
   "id": "a3590ea0-8087-41c0-8382-a072681c25f6",
   "metadata": {},
   "outputs": [],
   "source": [
    "trainer = pl.Trainer(max_epochs=epochs,\n",
    "                     accelerator=\"cpu\", devices=1, strategy=\"auto\",deterministic=True)\n",
    "\n",
    "trainer.fit(model=model, train_dataloaders=dataloader)"
   ]
  },
  {
   "cell_type": "code",
   "execution_count": null,
   "id": "8c9bd98e-7676-44f8-97e6-9761358bb5a1",
   "metadata": {},
   "outputs": [],
   "source": []
  }
 ],
 "metadata": {
  "kernelspec": {
   "display_name": "Python [conda env:hss]",
   "language": "python",
   "name": "conda-env-hss-py"
  },
  "language_info": {
   "codemirror_mode": {
    "name": "ipython",
    "version": 3
   },
   "file_extension": ".py",
   "mimetype": "text/x-python",
   "name": "python",
   "nbconvert_exporter": "python",
   "pygments_lexer": "ipython3",
   "version": "3.12.11"
  }
 },
 "nbformat": 4,
 "nbformat_minor": 5
}
