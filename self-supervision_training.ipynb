{
 "cells": [
  {
   "cell_type": "markdown",
   "id": "2572238e-27d0-4e97-8bb4-de5f5bb9bd23",
   "metadata": {},
   "source": [
    "# Load modules"
   ]
  },
  {
   "cell_type": "code",
   "execution_count": null,
   "id": "429ce1e6-0485-4cae-8fdf-163b6a2812d6",
   "metadata": {},
   "outputs": [],
   "source": [
    "import torch\n",
    "import torch.nn as nn\n",
    "import torchvision\n",
    "import pytorch_lightning as pl\n",
    "\n",
    "from lightly.loss import NegativeCosineSimilarity\n",
    "from lightly.models.modules.heads import (\n",
    "    SimSiamPredictionHead,\n",
    "    SimSiamProjectionHead\n",
    ")\n",
    "\n",
    "import numpy as np\n",
    "import matplotlib.pyplot as plt\n",
    "from einops import rearrange\n",
    "\n",
    "from data.dataset import SDOTilesDataset"
   ]
  },
  {
   "cell_type": "markdown",
   "id": "7a81b8cd-b654-47ae-9657-69b3259958e6",
   "metadata": {},
   "source": [
    "# Setup training parameters"
   ]
  },
  {
   "cell_type": "code",
   "execution_count": null,
   "id": "b1f8d9f7-365f-418a-86e2-d0601fa1fb68",
   "metadata": {},
   "outputs": [],
   "source": [
    "seed = 42 # So clever.\n",
    "pl.seed_everything(seed, workers=True)\n",
    "\n",
    "data_path = '/home/jovyan/scratch_space/andresmj/hss-self-supervision/AIA_211_193_171_128x128_small'\n",
    "epochs = 16\n",
    "data_stride = 1\n",
    "batch_size = 64\n",
    "augmentation = 'single'\n",
    "loss = 'contrast'   # 'contrast' or 'cos'\n",
    "learning_rate = 0.1\n",
    "cosine_scheduler_start = .1\n",
    "cosine_scheduler_end = 1.0\n",
    "projection_size = 128\n",
    "prediction_size = 128"
   ]
  },
  {
   "cell_type": "markdown",
   "id": "51d90cbb-f8d9-4af7-aadb-ceebfc1c937b",
   "metadata": {},
   "source": [
    "# Initialize dataset"
   ]
  },
  {
   "cell_type": "code",
   "execution_count": null,
   "id": "d489a6b9-5603-4df7-9c60-0dd399870b4f",
   "metadata": {},
   "outputs": [],
   "source": [
    "dataset = SDOTilesDataset(data_path=data_path, augmentation=augmentation, data_stride=data_stride)"
   ]
  },
  {
   "cell_type": "code",
   "execution_count": null,
   "id": "532fe26a-3f73-4af3-b6a0-c21a3388cc38",
   "metadata": {},
   "outputs": [],
   "source": [
    "# Get random index\n",
    "idx = np.random.randint(0, high=dataset.__len__())\n",
    "idx"
   ]
  },
  {
   "cell_type": "code",
   "execution_count": null,
   "id": "b63f2c20-e79a-4435-bbfe-17cb9459487d",
   "metadata": {},
   "outputs": [],
   "source": [
    "x0, x1, _ = dataset.__getitem__(idx)\n",
    "\n",
    "fig = plt.figure(figsize=np.array([4, 2]), constrained_layout=True)\n",
    "spec = fig.add_gridspec(ncols=2, nrows=1, wspace=0, hspace=0)\n",
    "\n",
    "ax = fig.add_subplot(spec[0, 0])\n",
    "ax.imshow(rearrange(x0, 'c h w -> h w c'))\n",
    "ax.set_xticks([])\n",
    "ax.set_yticks([])\n",
    "ax.set_title(\"Original\")\n",
    "\n",
    "ax = fig.add_subplot(spec[0, 1])\n",
    "ax.imshow(rearrange(x1, 'c h w -> h w c'))\n",
    "ax.set_xticks([])\n",
    "ax.set_yticks([])\n",
    "ax.set_title(\"Augmented\")\n"
   ]
  },
  {
   "cell_type": "markdown",
   "id": "7d115108-1a4a-47f3-914d-30acdec80cbe",
   "metadata": {},
   "source": [
    "# Build dataloader"
   ]
  },
  {
   "cell_type": "code",
   "execution_count": null,
   "id": "cfac07cf-9410-4ad5-8713-4c6637a750a9",
   "metadata": {},
   "outputs": [],
   "source": [
    "dataloader = torch.utils.data.DataLoader(\n",
    "    dataset,\n",
    "    batch_size=batch_size,\n",
    "    shuffle=True,\n",
    "    drop_last=False,\n",
    "    num_workers=4,\n",
    ")"
   ]
  },
  {
   "cell_type": "markdown",
   "id": "52b7e371-193d-4113-a0f2-71223f697eaa",
   "metadata": {},
   "source": [
    "# Setup SimSiam model"
   ]
  },
  {
   "cell_type": "code",
   "execution_count": null,
   "id": "2e7979d6-7d91-4e6c-b30f-27cb780714eb",
   "metadata": {},
   "outputs": [],
   "source": [
    "class SimSiam(pl.LightningModule):\n",
    "    def __init__(self):\n",
    "        super().__init__()\n",
    "        resnet = torchvision.models.resnet18()\n",
    "        self.backbone = nn.Sequential(*list(resnet.children())[:-1])\n",
    "        self.projection_head = SimSiamProjectionHead(512, 512, 128)\n",
    "        self.prediction_head = SimSiamPredictionHead(128, 64, 128)\n",
    "        self.criterion = NegativeCosineSimilarity()\n",
    "\n",
    "    def forward(self, x):\n",
    "        f = self.backbone(x).flatten(start_dim=1)\n",
    "        z = self.projection_head(f)\n",
    "        p = self.prediction_head(z)\n",
    "        z = z.detach()\n",
    "        return z, p\n",
    "\n",
    "    def training_step(self, batch, batch_idx):\n",
    "        (x0, x1, _) = batch\n",
    "        z0, p0 = self.forward(x0)\n",
    "        z1, p1 = self.forward(x1)\n",
    "        loss = 0.5 * (self.criterion(z0, p1) + self.criterion(z1, p0))\n",
    "        return loss\n",
    "\n",
    "    def configure_optimizers(self):\n",
    "        optim = torch.optim.SGD(self.parameters(), lr=0.06)\n",
    "        return optim\n",
    "        \n",
    "model = SimSiam()\n",
    "model"
   ]
  },
  {
   "cell_type": "markdown",
   "id": "41be944f-e4f8-45d1-84d8-12027fe4d138",
   "metadata": {},
   "source": [
    "# Train model"
   ]
  },
  {
   "cell_type": "code",
   "execution_count": null,
   "id": "a3590ea0-8087-41c0-8382-a072681c25f6",
   "metadata": {},
   "outputs": [],
   "source": [
    "trainer = pl.Trainer(max_epochs=epochs,\n",
    "                     accelerator=\"cpu\", devices=1, strategy=\"auto\",deterministic=True)\n",
    "\n",
    "trainer.fit(model=model, train_dataloaders=dataloader)"
   ]
  },
  {
   "cell_type": "code",
   "execution_count": null,
   "id": "8c9bd98e-7676-44f8-97e6-9761358bb5a1",
   "metadata": {},
   "outputs": [],
   "source": []
  }
 ],
 "metadata": {
  "kernelspec": {
   "display_name": "Python [conda env:hss]",
   "language": "python",
   "name": "conda-env-hss-py"
  },
  "language_info": {
   "codemirror_mode": {
    "name": "ipython",
    "version": 3
   },
   "file_extension": ".py",
   "mimetype": "text/x-python",
   "name": "python",
   "nbconvert_exporter": "python",
   "pygments_lexer": "ipython3",
   "version": "3.12.11"
  }
 },
 "nbformat": 4,
 "nbformat_minor": 5
}
